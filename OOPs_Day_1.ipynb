{
  "nbformat": 4,
  "nbformat_minor": 0,
  "metadata": {
    "colab": {
      "provenance": []
    },
    "kernelspec": {
      "name": "python3",
      "display_name": "Python 3"
    },
    "language_info": {
      "name": "python"
    }
  },
  "cells": [
    {
      "cell_type": "code",
      "source": [
        "class Calculator:\n",
        "  def __init__(self,num1,num2):\n",
        "    self.num1=num1\n",
        "    self.num2=num2\n",
        "\n",
        "  def add(self):\n",
        "    print(self.num1+self.num2)\n",
        "\n",
        "  def multi(self):\n",
        "    print(self.num1*self.num2)\n",
        "\n",
        "  def substractor(self):\n",
        "    print(self.num1-self.num2)\n",
        "\n",
        "c1=Calculator(10,5)\n",
        "c1.add()\n",
        "c1.multi()\n",
        "c1.substractor()\n",
        "\n"
      ],
      "metadata": {
        "id": "c0gr3U9SDyLm",
        "outputId": "b17d9216-7072-4697-c62b-9e9c4006d1ed",
        "colab": {
          "base_uri": "https://localhost:8080/"
        }
      },
      "execution_count": 6,
      "outputs": [
        {
          "output_type": "stream",
          "name": "stdout",
          "text": [
            "15\n",
            "50\n",
            "5\n"
          ]
        }
      ]
    }
  ]
}